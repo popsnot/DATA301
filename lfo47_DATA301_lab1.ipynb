{
  "cells": [
    {
      "cell_type": "markdown",
      "metadata": {
        "deletable": false,
        "id": "2atU0B4txqus",
        "nbgrader": {
          "cell_type": "markdown",
          "checksum": "29caaae7ef331dd276e1f1c6049a48df",
          "grade": true,
          "grade_id": "cell-93c1aa92a983022c",
          "locked": false,
          "points": 0,
          "schema_version": 3,
          "solution": true,
          "task": false
        }
      },
      "source": [
        "\n",
        "\n",
        "```\n",
        "# This is formatted as code\n",
        "```\n",
        "\n",
        "#**Luka Foy - 99670210**"
      ]
    },
    {
      "cell_type": "markdown",
      "metadata": {
        "deletable": false,
        "editable": false,
        "id": "7MHTn1dlBKau",
        "nbgrader": {
          "cell_type": "markdown",
          "checksum": "9cba2cf9fc0a71c9070b32a0cfc6937b",
          "grade": false,
          "grade_id": "cell-76458f3576af0962",
          "locked": true,
          "schema_version": 3,
          "solution": false,
          "task": false
        }
      },
      "source": [
        "version 1.0.1\n",
        "#![Spark Logo](http://spark-mooc.github.io/web-assets/images/ta_Spark-logo-small.png) + ![Python Logo](http://spark-mooc.github.io/web-assets/images/python-logo-master-v3-TM-flattened_small.png)\n",
        "# **Web Server Log Analysis with Apache Spark**\n",
        " \n",
        "####This lab will demonstrate how easy it is to perform web server log analysis with Apache Spark.\n",
        " \n",
        "####Server log analysis is an ideal use case for Spark.  It's a very large, common data source and contains a rich set of information.  Spark allows you to store your logs in files on disk cheaply, while still providing a quick and simple way to perform data analysis on them.  This homework will show you how to use Apache Spark on real-world text-based production logs and fully harness the power of that data.  Log data comes from many sources, such as web, file, and compute servers, application logs, user-generated content,  and can be used for monitoring servers, improving business and customer intelligence, building recommendation systems, fraud detection, and much more."
      ]
    },
    {
      "cell_type": "markdown",
      "metadata": {
        "deletable": false,
        "editable": false,
        "id": "qUWHB3OgBKav",
        "nbgrader": {
          "cell_type": "markdown",
          "checksum": "93caeef377d4a79e2ad8fa744fc3f8ff",
          "grade": false,
          "grade_id": "cell-fbf4ba5075cfa5ba",
          "locked": true,
          "schema_version": 3,
          "solution": false,
          "task": false
        }
      },
      "source": [
        "### How to complete this assignment\n",
        " \n",
        "####This assignment is broken up into sections with bite-sized examples for demonstrating Spark functionality for log processing. For each problem, you should start by thinking about the algorithm that you will use to *efficiently* process the log in a parallel, distributed manner. This means using the various [RDD](http://spark.apache.org/docs/latest/api/python/pyspark.html#pyspark.RDD) operations along with [`lambda` functions](https://docs.python.org/2/tutorial/controlflow.html#lambda-expressions) that are applied at each worker.\n",
        " \n",
        "####This assignment consists of 4 parts:\n",
        "#### *Part 1*: TSV Log file format [0 points]\n",
        "#### *Part 2*: Sample Analyses on the Web Server Log File  [0 points]\n",
        "#### *Part 3*: Analyzing a Web Server Log File  [45 points]\n",
        "#### *Part 4*: Exploring 404 Response Codes  [45 points]"
      ]
    },
    {
      "cell_type": "code",
      "execution_count": 117,
      "metadata": {
        "deletable": false,
        "editable": false,
        "id": "Lg4Km4uvse-T",
        "nbgrader": {
          "cell_type": "code",
          "checksum": "7fa26f7f08b3db8078eaa2c3a0730417",
          "grade": false,
          "grade_id": "cell-9fdccd462f943b40",
          "locked": true,
          "schema_version": 3,
          "solution": false,
          "task": false
        }
      },
      "outputs": [],
      "source": [
        "# Uncomment to install the Spark context\n",
        "!apt-get install openjdk-8-jdk-headless -qq > /dev/null\n",
        "!pip install -q pyspark\n",
        "\n",
        "import os\n",
        "os.environ['PYTHONHASHSEED']=\"0\"\n",
        "os.environ[\"PYSPARK_PYTHON\"]=\"python3\"\n",
        "os.environ[\"JAVA_HOME\"]=\"/usr/lib/jvm/java-8-openjdk-amd64/\"\n",
        "\n",
        "import pyspark\n",
        "from pyspark import SparkConf, SparkContext\n",
        "from pyspark.sql import *\n",
        "spark = SparkSession.builder.master(\"local[*]\").appName('SparkExample').config(\n",
        "    \"spark.executor.memory\", \"1g\").config(\n",
        "        \"spark.executorEnv.PYTHONHASHSEED\",\"0\").config(\"spark.ui.port\", \"4050\"\n",
        "        ).getOrCreate()\n",
        "sc = spark.sparkContext\n",
        "\n",
        "\n",
        "# A few additional libraries we will need\n",
        "from math import sqrt\n",
        "\n",
        "def dbg(x):\n",
        "  \"\"\" A helper function to print debugging information on RDDs \"\"\"\n",
        "  if isinstance(x, pyspark.RDD):\n",
        "    print([(t[0], list(t[1]) if \n",
        "            isinstance(t[1], pyspark.resultiterable.ResultIterable) else t[1])\n",
        "           if isinstance(t, tuple) else t\n",
        "           for t in x.take(100)])\n",
        "  else:\n",
        "    print(x)\n",
        "    \n",
        "\n",
        "import unittest\n",
        "Test = unittest.TestCase()"
      ]
    },
    {
      "cell_type": "markdown",
      "metadata": {
        "deletable": false,
        "editable": false,
        "id": "2I-S2aZTBKaw",
        "nbgrader": {
          "cell_type": "markdown",
          "checksum": "3d38e8ae8d69a531de204648ec478448",
          "grade": false,
          "grade_id": "cell-b50edb07b9e9a8de",
          "locked": true,
          "schema_version": 3,
          "solution": false,
          "task": false
        }
      },
      "source": [
        "### **Part 1: Log file format**\n",
        "####The log file that we use for this assignment is in the TSV format (tab separated values). The log file entries produced in TSV will look something like this:\n",
        "`piweba3y.prodigy.com - 807301196 GET /shuttle/missions/missions.html 200 8677`\n",
        " \n",
        "####Each part of this log entry is described below.\n",
        "* `piweba3y.prodigy.com`\n",
        "####This is the IP address (or host name, if available) of the client (remote host) which made the request to the server.\n",
        " \n",
        "* `-`\n",
        "####The \"hyphen\" in the output indicates that the requested piece of information (log name) is not available.\n",
        " \n",
        "* `807301196`\n",
        "####The time that the server finished processing the request in seconds since 1970 (The Unix epoch (or Unix time or POSIX time or Unix timestamp))\n",
        "\n",
        "* `GET`\n",
        "####The request method (e.g., `GET`, `POST`, etc.), \n",
        "\n",
        "* `/shuttle/missions/missions.html`\n",
        "The endpoint (a [Uniform Resource Identifier](http://en.wikipedia.org/wiki/Uniform_resource_identifier)), which is the requested path\n",
        " \n",
        "* `200`\n",
        "####This is the status code that the server sends back to the client. This information is very valuable, because it reveals whether the request resulted in a successful response (codes beginning in 2), a redirection (codes beginning in 3), an error caused by the client (codes beginning in 4), or an error in the server (codes beginning in 5). The full list of possible status codes can be found in the HTTP specification ([RFC 2616](https://www.ietf.org/rfc/rfc2616.txt) section 10).\n",
        " \n",
        "* `8677`\n",
        "####The last entry indicates the size of the object returned to the client, not including the response headers. If no content was returned to the client, this value will be \"-\" (or sometimes 0).\n",
        " \n",
        "####Note that log files contain information supplied directly by the client, without escaping. Therefore, it is possible for malicious clients to insert control-characters in the log files, *so care must be taken in dealing with raw logs.*\n",
        " \n",
        "### NASA-HTTP Web Server Log\n",
        "####For this assignment, we will use a data set from NASA Kennedy Space Center WWW server in Florida. The full data set is freely available (ftp://ita.ee.lbl.gov/traces/NASA_access_log_Aug95.gz) and contains two month's of all HTTP requests. We are using a subset that only contains several days worth of requests."
      ]
    },
    {
      "cell_type": "code",
      "execution_count": 118,
      "metadata": {
        "colab": {
          "base_uri": "https://localhost:8080/"
        },
        "deletable": false,
        "editable": false,
        "id": "Uh_4en9NIXqv",
        "nbgrader": {
          "cell_type": "code",
          "checksum": "a1056e2e27f7d44229630aa26460a532",
          "grade": false,
          "grade_id": "cell-d15a3e4948078f48",
          "locked": true,
          "schema_version": 3,
          "solution": false,
          "task": false
        },
        "outputId": "d6ae469e-f721-42ca-ffa4-9c3d4092f4c8"
      },
      "outputs": [
        {
          "output_type": "execute_result",
          "data": {
            "text/plain": [
              "('nasa_19950801.tsv', <http.client.HTTPMessage at 0x7fc06cc38fd0>)"
            ]
          },
          "metadata": {},
          "execution_count": 118
        }
      ],
      "source": [
        "#download the special subset\n",
        "# !gdown 'https://drive.google.com/uc?export=download&confirm=t&id=16m335JAibvlV2fQbOylznGF30qTLvbmn'\n",
        "import urllib.request\n",
        "url = 'https://drive.google.com/uc?export=download&confirm=t&id=16m335JAibvlV2fQbOylznGF30qTLvbmn'\n",
        "filename = 'nasa_19950801.tsv'\n",
        "urllib.request.urlretrieve(url, filename)"
      ]
    },
    {
      "cell_type": "markdown",
      "metadata": {
        "deletable": false,
        "editable": false,
        "id": "vZHmxJamBKax",
        "nbgrader": {
          "cell_type": "markdown",
          "checksum": "f3e2940dead6e404a85b8a03f2498ec4",
          "grade": false,
          "grade_id": "cell-9b32e51f2c18ac4f",
          "locked": true,
          "schema_version": 3,
          "solution": false,
          "task": false
        }
      },
      "source": [
        "### **(1a) Parsing Each Log Line**\n",
        "####Using the TSV as defined above, we create a function that parses a line and returns a pair consisting of a Row object and 1. If the log line fails to match the regular expression, the function returns a pair consisting of the log line string and 0. A '-' value in the content size field is cleaned up by substituting it with 0. The function converts the log line's date string into a Python `datetime` object using the given `parse_apache_time` function."
      ]
    },
    {
      "cell_type": "code",
      "execution_count": 119,
      "metadata": {
        "deletable": false,
        "editable": false,
        "id": "Yg4qwY-DBKax",
        "nbgrader": {
          "cell_type": "code",
          "checksum": "2cab7589e06fb40926773b81f7c69cee",
          "grade": false,
          "grade_id": "cell-f64095d04e81976c",
          "locked": true,
          "schema_version": 3,
          "solution": false,
          "task": false
        }
      },
      "outputs": [],
      "source": [
        "import re\n",
        "import datetime\n",
        "\n",
        "from pyspark.sql import Row\n",
        "\n",
        "def parseApacheLogLine(logline):\n",
        "    \"\"\" Parse a line in the Apache Common Log format\n",
        "    Args:\n",
        "        logline (str): a line of text in the Apache Common Log format\n",
        "    Returns:\n",
        "        tuple: either a dictionary containing the parts of the Apache Access Log and 1,\n",
        "               or the original invalid log line and 0\n",
        "    \"\"\"\n",
        "    match = logline.split('\\t')\n",
        "    try:\n",
        "      size_field = match[6]\n",
        "      if size_field == '-':\n",
        "          size = int(0)\n",
        "      else:\n",
        "          size = int(match[6])\n",
        "      return (Row(\n",
        "          host          = match[0],\n",
        "          log_name      = match[1],\n",
        "          date_time     = datetime.datetime.utcfromtimestamp(int(match[2])),\n",
        "          method        = match[3],\n",
        "          endpoint      = match[4],\n",
        "          response_code = int(match[5]),\n",
        "          content_size  = size\n",
        "      ), 1)\n",
        "    except:\n",
        "      return (logline, 0)\n"
      ]
    },
    {
      "cell_type": "markdown",
      "metadata": {
        "id": "HlBbZ3ylBKa2"
      },
      "source": [
        "### **(1b) Configuration and Initial RDD Creation**\n",
        "####We are ready to specify the input log file and create an RDD containing the parsed log file data. The log file has already been downloaded for you.\n",
        " \n",
        "####To create the primary RDD that we'll use in the rest of this assignment, we first load the text file using [`sc.textfile(logFile)`](http://spark.apache.org/docs/latest/api/python/pyspark.html#pyspark.SparkContext.textFile) to convert each line of the file into an element in an RDD.\n",
        "####Next, we use [`map(parseLog)`](http://spark.apache.org/docs/latest/api/python/pyspark.html#pyspark.RDD.map) to apply the parse function to each element (that is, a line from the log file) in the RDD and turn each line into a pair [`Row` object](http://spark.apache.org/docs/latest/api/python/pyspark.sql.html#pyspark.sql.Row).\n",
        "####Finally, we cache the RDD in memory since we'll use it throughout this notebook."
      ]
    },
    {
      "cell_type": "code",
      "execution_count": 120,
      "metadata": {
        "colab": {
          "base_uri": "https://localhost:8080/"
        },
        "deletable": false,
        "editable": false,
        "id": "oiHQN5IfBKa3",
        "nbgrader": {
          "cell_type": "code",
          "checksum": "742f443f070f78aecc086d9c74729a7f",
          "grade": false,
          "grade_id": "cell-f9becc65ada80ca4",
          "locked": true,
          "schema_version": 3,
          "solution": false,
          "task": false
        },
        "outputId": "faa7037d-b36d-4ee4-efd9-c5b8ef6091b6"
      },
      "outputs": [
        {
          "output_type": "stream",
          "name": "stdout",
          "text": [
            "Number of invalid logline: 1\n",
            "Invalid logline: host\tlogname\ttime\tmethod\turl\tresponse\tbytes\treferer\tuseragent\n",
            "Read 30970 lines, successfully parsed 30969 lines, failed to parse 1 lines\n"
          ]
        }
      ],
      "source": [
        "\n",
        "def parseLog(logFile):\n",
        "    parsed_log = (sc\n",
        "                   .textFile(logFile)\n",
        "                   .map(parseApacheLogLine)\n",
        "                   .cache())\n",
        "\n",
        "    access_logs = (parsed_log\n",
        "                   .filter(lambda s: s[1] == 1)\n",
        "                   .map(lambda s: s[0])\n",
        "                   .cache())\n",
        "\n",
        "    failed_logs = (parsed_log\n",
        "                   .filter(lambda s: s[1] == 0)\n",
        "                   .map(lambda s: s[0]))\n",
        "    failed_logs_count = failed_logs.count()\n",
        "    if failed_logs_count > 0:\n",
        "        print('Number of invalid logline: %d' % failed_logs.count())\n",
        "        for line in failed_logs.take(20):\n",
        "            print('Invalid logline: %s' % line)\n",
        "\n",
        "    print('Read %d lines, successfully parsed %d lines, failed to parse %d lines' % (parsed_log.count(), access_logs.count(), failed_logs.count()))\n",
        "    return parsed_log, access_logs, failed_logs\n",
        "\n",
        "\n",
        "parsed_logs, access_logs, failed_logs = parseLog('nasa_19950801.tsv')"
      ]
    },
    {
      "cell_type": "markdown",
      "metadata": {
        "deletable": false,
        "editable": false,
        "id": "7E0ECuMZBKa9",
        "nbgrader": {
          "cell_type": "markdown",
          "checksum": "5fbb7d3de0db59fd14e56a23ac56f118",
          "grade": false,
          "grade_id": "cell-3c5ecb695c960176",
          "locked": true,
          "schema_version": 3,
          "solution": false,
          "task": false
        }
      },
      "source": [
        "### **Part 2: Sample Analyses on the Web Server Log File**\n",
        " \n",
        "####Now that we have an RDD containing the log file as a set of Row objects, we can perform various analyses.\n",
        " \n",
        "#### **(2a) Example: Content Size Statistics**\n",
        " \n",
        "####Let's compute some statistics about the sizes of content being returned by the web server. In particular, we'd like to know what are the average, minimum, and maximum content sizes.\n",
        " \n",
        "####We can compute the statistics by applying a `map` to the `access_logs` RDD. The `lambda` function we want for the map is to extract the `content_size` field from the RDD. The map produces a new RDD containing only the `content_sizes` (one element for each Row object in the `access_logs` RDD). To compute the minimum and maximum statistics, we can use [`min()`](http://spark.apache.org/docs/latest/api/python/pyspark.html#pyspark.RDD.min) and [`max()`](http://spark.apache.org/docs/latest/api/python/pyspark.html#pyspark.RDD.max) functions on the new RDD. We can compute the average statistic by using the [`reduce`](http://spark.apache.org/docs/latest/api/python/pyspark.html#pyspark.RDD.reduce) function with a `lambda` function that sums the two inputs, which represent two elements from the new RDD that are being reduced together. The result of the `reduce()` is the total content size from the log and it is to be divided by the number of requests as determined using the [`count()`](http://spark.apache.org/docs/latest/api/python/pyspark.html#pyspark.RDD.count) function on the new RDD."
      ]
    },
    {
      "cell_type": "code",
      "execution_count": 121,
      "metadata": {
        "colab": {
          "base_uri": "https://localhost:8080/"
        },
        "deletable": false,
        "editable": false,
        "id": "dhZhFReWBKa-",
        "nbgrader": {
          "cell_type": "code",
          "checksum": "ae57b2a95cfce37ada22f98b9df39110",
          "grade": false,
          "grade_id": "cell-dc87c4cef58b674e",
          "locked": true,
          "schema_version": 3,
          "solution": false,
          "task": false
        },
        "outputId": "cd29647d-6602-4989-b51b-dbc79aac1508"
      },
      "outputs": [
        {
          "output_type": "stream",
          "name": "stdout",
          "text": [
            "Content Size Avg: 15563, Min: 0, Max: 1269716\n"
          ]
        }
      ],
      "source": [
        "# Calculate statistics based on the content size.\n",
        "content_sizes = access_logs.map(lambda log: log.content_size).cache()\n",
        "print('Content Size Avg: %i, Min: %i, Max: %s' % (\n",
        "    content_sizes.reduce(lambda a, b : a + b) / content_sizes.count(),\n",
        "    content_sizes.min(),\n",
        "    content_sizes.max()))"
      ]
    },
    {
      "cell_type": "markdown",
      "metadata": {
        "deletable": false,
        "editable": false,
        "id": "V894VVvBBKbB",
        "nbgrader": {
          "cell_type": "markdown",
          "checksum": "800f0043e0b60e35df8a1ea0630641f9",
          "grade": false,
          "grade_id": "cell-8d8c38e61bc52c2b",
          "locked": true,
          "schema_version": 3,
          "solution": false,
          "task": false
        }
      },
      "source": [
        "#### **(2b) Example: Response Code Analysis**\n",
        "####Next, lets look at the response codes that appear in the log. As with the content size analysis, first we create a new RDD by using a `lambda` function to extract the `response_code` field from the `access_logs` RDD. The difference here is that we will use a [pair tuple](https://docs.python.org/2/tutorial/datastructures.html?highlight=tuple#tuples-and-sequences) instead of just the field itself. Using a pair tuple consisting of the response code and 1 will let us count how many records have a particular response code. Using the new RDD, we perform a [`reduceByKey`](http://spark.apache.org/docs/latest/api/python/pyspark.html#pyspark.RDD.reduceByKey) function. `reduceByKey` performs a reduce on a per-key basis by applying the `lambda` function to each element, pairwise with the same key. We use the simple `lambda` function of adding the two values. Then, we cache the resulting RDD and create a list by using the [`take`](http://spark.apache.org/docs/latest/api/python/pyspark.html#pyspark.RDD.take) function."
      ]
    },
    {
      "cell_type": "code",
      "execution_count": 122,
      "metadata": {
        "colab": {
          "base_uri": "https://localhost:8080/"
        },
        "deletable": false,
        "editable": false,
        "id": "0lULW-4fBKbB",
        "nbgrader": {
          "cell_type": "code",
          "checksum": "f8c36f5975e94206bc9b628984f633af",
          "grade": false,
          "grade_id": "cell-1f857aed0fed7804",
          "locked": true,
          "schema_version": 3,
          "solution": false,
          "task": false
        },
        "outputId": "b2b7d3f3-0679-4de1-9c7e-49209de534d6"
      },
      "outputs": [
        {
          "output_type": "stream",
          "name": "stdout",
          "text": [
            "Found 4 response codes\n",
            "Response Code Counts: [(200, 27972), (302, 355), (304, 2421), (404, 221)]\n"
          ]
        }
      ],
      "source": [
        "# Response Code to Count\n",
        "responseCodeToCount = (access_logs\n",
        "                       .map(lambda log: (log.response_code, 1))\n",
        "                       .reduceByKey(lambda a, b : a + b)\n",
        "                       .cache())\n",
        "responseCodeToCountList = responseCodeToCount.take(100)\n",
        "print('Found %d response codes' % len(responseCodeToCountList))\n",
        "print('Response Code Counts: %s' % sorted(responseCodeToCountList))\n",
        "assert len(responseCodeToCountList) == 4\n",
        "assert sorted(responseCodeToCountList) == [(200, 27972), (302, 355), (304, 2421), (404, 221)]"
      ]
    },
    {
      "cell_type": "markdown",
      "metadata": {
        "deletable": false,
        "editable": false,
        "id": "xE5VBK6tBKbE",
        "nbgrader": {
          "cell_type": "markdown",
          "checksum": "a28ecb8c55544d9fabfae0b01034546a",
          "grade": false,
          "grade_id": "cell-3201ea5ed0f4a3eb",
          "locked": true,
          "schema_version": 3,
          "solution": false,
          "task": false
        }
      },
      "source": [
        "#### **(2c) Example: Response Code Graphing with `matplotlib`**\n",
        "####Now, lets visualize the results from the last example. We can visualize the results from the last example using [`matplotlib`](http://matplotlib.org/). First we need to extract the labels and fractions for the graph. We do this with two separate `map` functions with a `lambda` functions. The first `map` function extracts a list of of the response code values, and the second `map` function extracts a list of the per response code counts  divided by the total size of the access logs. Next, we create a figure with `figure()` constructor and use the `pie()` method to create the pie plot."
      ]
    },
    {
      "cell_type": "code",
      "execution_count": 123,
      "metadata": {
        "colab": {
          "base_uri": "https://localhost:8080/"
        },
        "deletable": false,
        "editable": false,
        "id": "Kj33SMabBKbE",
        "nbgrader": {
          "cell_type": "code",
          "checksum": "07c6608779815c6e08208f57605fd22f",
          "grade": false,
          "grade_id": "cell-4100c1064a0821e8",
          "locked": true,
          "schema_version": 3,
          "solution": false,
          "task": false
        },
        "outputId": "12d204df-d5d3-4f94-8760-a145f7221951"
      },
      "outputs": [
        {
          "output_type": "stream",
          "name": "stdout",
          "text": [
            "[200, 304, 302, 404]\n",
            "[0.9032258064516129, 0.07817494914269107, 0.011463075979205012, 0.0071361684264910075]\n"
          ]
        }
      ],
      "source": [
        "labels = responseCodeToCount.map(lambda xy: xy[0]).collect()\n",
        "print(labels)\n",
        "count = access_logs.count()\n",
        "fracs = responseCodeToCount.map(lambda xy: (float(xy[1]) / count)).collect()\n",
        "print(fracs)"
      ]
    },
    {
      "cell_type": "code",
      "execution_count": 124,
      "metadata": {
        "colab": {
          "base_uri": "https://localhost:8080/",
          "height": 318
        },
        "deletable": false,
        "editable": false,
        "id": "27IPrY2xBKbH",
        "nbgrader": {
          "cell_type": "code",
          "checksum": "de1d7227d65c9dc172f66d592ad28aa9",
          "grade": false,
          "grade_id": "cell-cf6bddda6fb607f5",
          "locked": true,
          "schema_version": 3,
          "solution": false,
          "task": false
        },
        "outputId": "eb98fb1b-21f6-4dd4-c228-95d4e3ef7f8d"
      },
      "outputs": [
        {
          "output_type": "execute_result",
          "data": {
            "text/plain": [
              "<matplotlib.legend.Legend at 0x7fc06cc38f40>"
            ]
          },
          "metadata": {},
          "execution_count": 124
        },
        {
          "output_type": "display_data",
          "data": {
            "text/plain": [
              "<Figure size 324x324 with 1 Axes>"
            ],
            "image/png": "[encoded data removed]"
          },
          "metadata": {}
        }
      ],
      "source": [
        "import matplotlib.pyplot as plt\n",
        "\n",
        "\n",
        "def pie_pct_format(value):\n",
        "    \"\"\" Determine the appropriate format string for the pie chart percentage label\n",
        "    Args:\n",
        "        value: value of the pie slice\n",
        "    Returns:\n",
        "        str: formated string label; if the slice is too small to fit, returns an empty string for label\n",
        "    \"\"\"\n",
        "    return '' if value < 7 else '%.0f%%' % value\n",
        "\n",
        "fig = plt.figure(figsize=(4.5, 4.5), facecolor='white', edgecolor='white')\n",
        "colors = ['yellowgreen', 'lightskyblue', 'gold', 'purple', ]\n",
        "explode = (0.05, 0.05, 0.1, 0)\n",
        "patches, texts, autotexts = plt.pie(fracs, labels=labels, colors=colors,\n",
        "                                    explode=explode, autopct=pie_pct_format,\n",
        "                                    shadow=False,  startangle=125)\n",
        "for text, autotext in zip(texts, autotexts):\n",
        "    if autotext.get_text() == '':\n",
        "        text.set_text('')  # If the slice is small to fit, don't show a text label\n",
        "plt.legend(labels, loc=(0.80, -0.1), shadow=True)\n"
      ]
    },
    {
      "cell_type": "markdown",
      "metadata": {
        "deletable": false,
        "editable": false,
        "id": "11WFuFcOBKbI",
        "nbgrader": {
          "cell_type": "markdown",
          "checksum": "ea42f2c1a6923b4e720a00b4a684f6fd",
          "grade": false,
          "grade_id": "cell-c75b4cc4dec7c647",
          "locked": true,
          "schema_version": 3,
          "solution": false,
          "task": false
        }
      },
      "source": [
        "#### **(2d) Example: Frequent Hosts**\n",
        "####Let's look at hosts that have accessed the server multiple times (e.g., more than ten times). As with the response code analysis in (2b), first we create a new RDD by using a `lambda` function to extract the `host` field from the `access_logs` RDD using a pair tuple consisting of the host and 1 which will let us count how many records were created by a particular host's request. Using the new RDD, we perform a `reduceByKey` function with a `lambda` function that adds the two values. We then filter the result based on the count of accesses by each host (the second element of each pair) being greater than ten. Next, we extract the host name by performing a `map` with a `lambda` function that returns the first element of each pair. Finally, we extract 20 elements from the resulting RDD - *note that the choice of which elements are returned is not guaranteed to be deterministic.*"
      ]
    },
    {
      "cell_type": "code",
      "execution_count": 125,
      "metadata": {
        "colab": {
          "base_uri": "https://localhost:8080/"
        },
        "deletable": false,
        "editable": false,
        "id": "CjjrXMQUBKbJ",
        "nbgrader": {
          "cell_type": "code",
          "checksum": "65ecd40af01db2275a266cc75287822e",
          "grade": false,
          "grade_id": "cell-8027f4b0104b67d8",
          "locked": true,
          "schema_version": 3,
          "solution": false,
          "task": false
        },
        "outputId": "80cbc823-7f89-422f-ef2a-85adab235b3d"
      },
      "outputs": [
        {
          "output_type": "stream",
          "name": "stdout",
          "text": [
            "Any 20 hosts that have accessed more then 10 times: ['bettong.client.uq.oz.au', 'dd10-046.compuserve.com', 'rvr0151.deltanet.com', '202.30.120.241', 'www-a1.proxy.aol.com', 'ad03-053.compuserve.com', 'www-b3.proxy.aol.com', 'dialup12.leuven.eunet.be', '193.84.66.147', 'gwa.ericsson.com', '198.189.70.111', 'www-d4.proxy.aol.com', 'pc-heh.icl.dk', 'www-b2.proxy.aol.com', 'beglinger.dial-up.bdt.com', 'dialup21.brussels.eunet.be', 'mage.ho.bom.gov.au', '204.96.24.4', 'nevans.aom.bt.co.uk', 'alyssa.prodigy.com']\n"
          ]
        }
      ],
      "source": [
        "# Any hosts that has accessed the server more than 10 times.\n",
        "hostCountPairTuple = access_logs.map(lambda log: (log.host, 1))\n",
        "\n",
        "hostSum = hostCountPairTuple.reduceByKey(lambda a, b : a + b)\n",
        "\n",
        "hostMoreThan10 = hostSum.filter(lambda s: s[1] > 10)\n",
        "\n",
        "hostsPick20 = (hostMoreThan10\n",
        "               .map(lambda s: s[0])\n",
        "               .take(20))\n",
        "\n",
        "print('Any 20 hosts that have accessed more then 10 times: %s' % hostsPick20)\n",
        "# An example: [u'204.120.34.185', u'204.243.249.9', u'slip1-32.acs.ohio-state.edu', u'lapdog-14.baylor.edu', u'199.77.67.3', u'gs1.cs.ttu.edu', u'haskell.limbex.com', u'alfred.uib.no', u'146.129.66.31', u'manaus.bologna.maraut.it', u'dialup98-110.swipnet.se', u'slip-ppp02.feldspar.com', u'ad03-053.compuserve.com', u'srawlin.opsys.nwa.com', u'199.202.200.52', u'ix-den7-23.ix.netcom.com', u'151.99.247.114', u'w20-575-104.mit.edu', u'205.25.227.20', u'ns.rmc.com']"
      ]
    },
    {
      "cell_type": "markdown",
      "metadata": {
        "deletable": false,
        "editable": false,
        "id": "Oq2X7GH7BKbL",
        "nbgrader": {
          "cell_type": "markdown",
          "checksum": "c262a9a2e6f5f3be531b0ceeebbc042d",
          "grade": false,
          "grade_id": "cell-7dce7ac16b455af6",
          "locked": true,
          "schema_version": 3,
          "solution": false,
          "task": false
        }
      },
      "source": [
        "#### **(2e) Example: Visualizing Endpoints**\n",
        "####Now, lets visualize the number of hits to endpoints (URIs) in the log. To perform this task, we first create a new RDD by using a `lambda` function to extract the `endpoint` field from the `access_logs` RDD using a pair tuple consisting of the endpoint and 1 which will let us count how many records were created by a particular host's request. Using the new RDD, we perform a `reduceByKey` function with a `lambda` function that adds the two values. We then cache the results.\n",
        " \n",
        "####Next we visualize the results using `matplotlib`. We previously imported the `matplotlib.pyplot` library, so we do not need to import it again. We perform two separate `map` functions with `lambda` functions. The first `map` function extracts a list of endpoint values, and the second `map` function extracts a list of the visits per endpoint values. Next, we create a figure with `figure()` constructor, set various features of the plot (axis limits, grid lines, and labels), and use the `plot()` method to create the line plot."
      ]
    },
    {
      "cell_type": "code",
      "execution_count": 126,
      "metadata": {
        "colab": {
          "base_uri": "https://localhost:8080/",
          "height": 364
        },
        "deletable": false,
        "editable": false,
        "id": "TlRV_PRlBKbM",
        "nbgrader": {
          "cell_type": "code",
          "checksum": "b91fa4bced286f2cf029d92a850917f4",
          "grade": false,
          "grade_id": "cell-1238b8f335df47e4",
          "locked": true,
          "schema_version": 3,
          "solution": false,
          "task": false
        },
        "outputId": "7f511403-3164-4834-d349-5d5ba5eb80e8"
      },
      "outputs": [
        {
          "output_type": "stream",
          "name": "stderr",
          "text": [
            "<ipython-input-126-6106bcc7ba3a>:10: MatplotlibDeprecationWarning: The 'b' parameter of grid() has been renamed 'visible' since Matplotlib 3.5; support for the old name will be dropped two minor releases later.\n",
            "  plt.grid(b=True, which='major', axis='y')\n"
          ]
        },
        {
          "output_type": "execute_result",
          "data": {
            "text/plain": [
              "[<matplotlib.lines.Line2D at 0x7fc06cca04c0>]"
            ]
          },
          "metadata": {},
          "execution_count": 126
        },
        {
          "output_type": "display_data",
          "data": {
            "text/plain": [
              "<Figure size 576x302.4 with 1 Axes>"
            ],
            "image/png": "[encoded data removed]"
          },
          "metadata": {}
        }
      ],
      "source": [
        "endpoints = (access_logs\n",
        "             .map(lambda log: (log.endpoint, 1))\n",
        "             .reduceByKey(lambda a, b : a + b)\n",
        "             .cache())\n",
        "ends = endpoints.map(lambda xy: xy[0]).collect()\n",
        "counts = endpoints.map(lambda xy: xy[1]).collect()\n",
        "\n",
        "fig = plt.figure(figsize=(8,4.2), facecolor='white', edgecolor='white')\n",
        "plt.axis([0, len(ends), 0, max(counts)])\n",
        "plt.grid(b=True, which='major', axis='y')\n",
        "plt.xlabel('Endpoints')\n",
        "plt.ylabel('Number of Hits')\n",
        "plt.plot(counts)"
      ]
    },
    {
      "cell_type": "markdown",
      "metadata": {
        "deletable": false,
        "editable": false,
        "id": "FQIZPWnKBKbO",
        "nbgrader": {
          "cell_type": "markdown",
          "checksum": "c7cc94063cae197355cdbde26cf8c52d",
          "grade": false,
          "grade_id": "cell-8b31928662225f62",
          "locked": true,
          "schema_version": 3,
          "solution": false,
          "task": false
        }
      },
      "source": [
        "#### **(2f) Example: Top Endpoints**\n",
        "####For the final example, we'll look at the top endpoints (URIs) in the log. To determine them, we first create a new RDD by using a `lambda` function to extract the `endpoint` field from the `access_logs` RDD using a pair tuple consisting of the endpoint and 1 which will let us count how many records were created by a particular host's request. Using the new RDD, we perform a `reduceByKey` function with a `lambda` function that adds the two values. We then extract the top ten endpoints by performing a [`takeOrdered`](http://spark.apache.org/docs/latest/api/python/pyspark.html#pyspark.RDD.takeOrdered) with a value of 10 and a `lambda` function that multiplies the count (the second element of each pair) by -1 to create a sorted list with the top endpoints at the bottom."
      ]
    },
    {
      "cell_type": "code",
      "execution_count": 127,
      "metadata": {
        "colab": {
          "base_uri": "https://localhost:8080/"
        },
        "deletable": false,
        "editable": false,
        "id": "fA-k2uyCBKbP",
        "nbgrader": {
          "cell_type": "code",
          "checksum": "2dff1a13884d0c8b9bea92ce138b4320",
          "grade": false,
          "grade_id": "cell-e53b028fd7704b55",
          "locked": true,
          "schema_version": 3,
          "solution": false,
          "task": false
        },
        "outputId": "912bc9c0-4eb2-4714-bbc3-d76a6fb236b6"
      },
      "outputs": [
        {
          "output_type": "stream",
          "name": "stdout",
          "text": [
            "Top Ten Endpoints: [('/images/NASA-logosmall.gif', 2140), ('/images/MOSAIC-logosmall.gif', 1756), ('/images/USA-logosmall.gif', 1748), ('/images/WORLD-logosmall.gif', 1734), ('/images/ksclogo-medium.gif', 1727), ('/ksc.html', 1382), ('/images/KSC-logosmall.gif', 1294), ('/', 627), ('/history/apollo/images/apollo-logo1.gif', 606), ('/images/launch-logo.gif', 562)]\n"
          ]
        }
      ],
      "source": [
        "# Top Endpoints\n",
        "endpointCounts = (access_logs\n",
        "                  .map(lambda log: (log.endpoint, 1))\n",
        "                  .reduceByKey(lambda a, b : a + b))\n",
        "\n",
        "topEndpoints = endpointCounts.takeOrdered(10, lambda s: -1 * s[1])\n",
        "\n",
        "print('Top Ten Endpoints: %s' % topEndpoints)\n",
        "assert topEndpoints == [('/images/NASA-logosmall.gif', 2140), ('/images/MOSAIC-logosmall.gif', 1756), ('/images/USA-logosmall.gif', 1748), ('/images/WORLD-logosmall.gif', 1734), ('/images/ksclogo-medium.gif', 1727), ('/ksc.html', 1382), ('/images/KSC-logosmall.gif', 1294), ('/', 627), ('/history/apollo/images/apollo-logo1.gif', 606), ('/images/launch-logo.gif', 562)]"
      ]
    },
    {
      "cell_type": "markdown",
      "metadata": {
        "deletable": false,
        "editable": false,
        "id": "qi9FApzTBKbQ",
        "nbgrader": {
          "cell_type": "markdown",
          "checksum": "7f682f1314086b5e1316c921b5137ab0",
          "grade": false,
          "grade_id": "cell-f157783326a9de83",
          "locked": true,
          "schema_version": 3,
          "solution": false,
          "task": false
        }
      },
      "source": [
        "### **Part 3: Analyzing Web Server Log File**\n",
        " \n",
        "####Now it is your turn to perform analyses on web server log files."
      ]
    },
    {
      "cell_type": "markdown",
      "metadata": {
        "deletable": false,
        "editable": false,
        "id": "ROgHO1QsBKbR",
        "nbgrader": {
          "cell_type": "markdown",
          "checksum": "1eb7196a5163a7e564f2f0044af0ee46",
          "grade": false,
          "grade_id": "cell-fc4c176ff973a5b0",
          "locked": true,
          "schema_version": 3,
          "solution": false,
          "task": false
        }
      },
      "source": [
        "#### **(3a) Exercise: Top Ten Error Endpoints  [10 points]**\n",
        "####What are the top ten endpoints which did not have return code 200? Create a sorted list containing top ten endpoints and the number of times that they were accessed with non-200 return code.\n",
        " \n",
        "####Think about the steps that you need to perform to determine which endpoints did not have a 200 return code, how you will uniquely count those endpoints, and sort the list.\n",
        " \n",
        "####You might want to refer back to the previous Lab (Lab 0) for insights."
      ]
    },
    {
      "cell_type": "code",
      "execution_count": 128,
      "metadata": {
        "colab": {
          "base_uri": "https://localhost:8080/"
        },
        "deletable": false,
        "id": "b13I4RsEBKbS",
        "nbgrader": {
          "cell_type": "code",
          "checksum": "818aae144f4ee8d72d82765cfc1dbd7f",
          "grade": false,
          "grade_id": "cell-f2d571cb1f841e27",
          "locked": false,
          "schema_version": 3,
          "solution": true,
          "task": false
        },
        "outputId": "d0d905f6-4fc6-449e-f1f6-b9e7a817b738"
      },
      "outputs": [
        {
          "output_type": "stream",
          "name": "stdout",
          "text": [
            "Top Ten failed URLs: PythonRDD[876] at RDD at PythonRDD.scala:53\n",
            "[('/images/NASA-logosmall.gif', 268), ('/images/KSC-logosmall.gif', 210), ('/images/MOSAIC-logosmall.gif', 172), ('/images/USA-logosmall.gif', 168), ('/images/ksclogo-medium.gif', 160), ('/images/WORLD-logosmall.gif', 153), ('/', 84), ('/images/Nasa-logo.gif', 79), ('/history/apollo/images/apollo-logo1.gif', 62), ('/images/launch-logo.gif', 57)]\n"
          ]
        }
      ],
      "source": [
        "# TODO: Replace <FILL IN> with appropriate code\n",
        "# HINT: Each of these <FILL IN> below could be completed with a single transformation or action.\n",
        "# You are welcome to structure your solution in a different way, so long as\n",
        "# you ensure the variables used in the next Test section are defined (ie. endpointSum, topTenErrURLs).\n",
        "\n",
        "not200 = access_logs.filter(lambda log: log.response_code != 200)\n",
        "\n",
        "endpointCountPairTuple = not200.map(lambda log: (log.endpoint, 1))\n",
        "\n",
        "endpointSum = endpointCountPairTuple.reduceByKey(lambda a, b: a + b)\n",
        "\n",
        "topTenErrURLs = endpointSum.takeOrdered(10, lambda s: -1 * s[1])\n",
        "\n",
        "print('Top Ten failed URLs: %s' % endpointSum)\n",
        "\n",
        "print(topTenErrURLs)\n"
      ]
    },
    {
      "cell_type": "code",
      "source": [
        "print(access_logs.take(1))"
      ],
      "metadata": {
        "colab": {
          "base_uri": "https://localhost:8080/"
        },
        "id": "3gDTwUwF9VHo",
        "outputId": "cf3e0a0f-2b6f-444c-9de1-057a105fc3bd"
      },
      "execution_count": 129,
      "outputs": [
        {
          "output_type": "stream",
          "name": "stdout",
          "text": [
            "[Row(host='pppa006.compuserve.com', log_name='-', date_time=datetime.datetime(1995, 8, 1, 6, 0), method='GET', endpoint='/images/launch-logo.gif', response_code=200, content_size=1713)]\n"
          ]
        }
      ]
    },
    {
      "cell_type": "code",
      "execution_count": 130,
      "metadata": {
        "deletable": false,
        "editable": false,
        "id": "h5lw9wwnBKbT",
        "nbgrader": {
          "cell_type": "code",
          "checksum": "9c61da08c062d7b47bca9db5c7f8dd56",
          "grade": true,
          "grade_id": "cell-c1ce06a814d66a2f",
          "locked": true,
          "points": 10,
          "schema_version": 3,
          "solution": false,
          "task": false
        }
      },
      "outputs": [],
      "source": [
        "# TEST Top ten error endpoints (3a)\n",
        "Test.assertEqual(endpointSum.count(), 581, 'incorrect count for endpointSum')\n",
        "Test.assertEqual(topTenErrURLs, [('/images/NASA-logosmall.gif', 268), ('/images/KSC-logosmall.gif', 210), ('/images/MOSAIC-logosmall.gif', 172), ('/images/USA-logosmall.gif', 168), ('/images/ksclogo-medium.gif', 160), ('/images/WORLD-logosmall.gif', 153), ('/', 84), ('/images/Nasa-logo.gif', 79), ('/history/apollo/images/apollo-logo1.gif', 62), ('/images/launch-logo.gif', 57)])"
      ]
    },
    {
      "cell_type": "markdown",
      "metadata": {
        "deletable": false,
        "editable": false,
        "id": "eBYBEHU-BKbW",
        "nbgrader": {
          "cell_type": "markdown",
          "checksum": "abec57649d3d92c6876e893c69d0d2c7",
          "grade": false,
          "grade_id": "cell-9390dcd4f39861bb",
          "locked": true,
          "schema_version": 3,
          "solution": false,
          "task": false
        }
      },
      "source": [
        "#### **(3b) Exercise: Number of Unique Hosts [10 points]**\n",
        "####How many unique hosts are there in the entire log?\n",
        " \n",
        "####Think about the steps that you need to perform to count the number of different hosts in the log."
      ]
    },
    {
      "cell_type": "code",
      "execution_count": 131,
      "metadata": {
        "deletable": false,
        "id": "3Hi0Ip3VBKbX",
        "nbgrader": {
          "cell_type": "code",
          "checksum": "163a5873438304b51a61b4d26224c906",
          "grade": false,
          "grade_id": "cell-58c4163940ea4b25",
          "locked": false,
          "schema_version": 3,
          "solution": true,
          "task": false
        },
        "colab": {
          "base_uri": "https://localhost:8080/"
        },
        "outputId": "2a68c4ee-6414-4f1b-a0f3-e8c76bfdccc7"
      },
      "outputs": [
        {
          "output_type": "stream",
          "name": "stdout",
          "text": [
            "Unique hosts: 2365\n"
          ]
        }
      ],
      "source": [
        "# TODO: Replace <FILL IN> with appropriate code\n",
        "# HINT: Do you recall the tips from (3a)? Each of these <FILL IN> could be an transformation or action.\n",
        "\n",
        "hosts = access_logs.map(lambda log: (log.host, 0))\n",
        "\n",
        "uniqueHosts = hosts.reduceByKey(lambda a, b : a + b)\n",
        "\n",
        "uniqueHostCount = uniqueHosts.count()\n",
        "\n",
        "print('Unique hosts: %d' % uniqueHostCount)"
      ]
    },
    {
      "cell_type": "code",
      "execution_count": 132,
      "metadata": {
        "deletable": false,
        "editable": false,
        "id": "MGMSQFEPBKbZ",
        "nbgrader": {
          "cell_type": "code",
          "checksum": "7c5d1c93d969c45d567188f074c01639",
          "grade": true,
          "grade_id": "cell-7410f800f035475e",
          "locked": true,
          "points": 10,
          "schema_version": 3,
          "solution": false,
          "task": false
        }
      },
      "outputs": [],
      "source": [
        "# TEST Number of unique hosts (3b)\n",
        "Test.assertEqual(uniqueHostCount, 2365, 'incorrect uniqueHostCount')"
      ]
    },
    {
      "cell_type": "markdown",
      "metadata": {
        "id": "O2Oj9txpBKbd"
      },
      "source": [
        "#### **(3c) Exercise: Number of Unique Hourly Hosts [10 points]**\n",
        "####For an advanced exercise, let's determine the number of unique hosts in the entire log on a hour-by-hour basis. This computation will give us counts of the number of unique hourly hosts. We'd like a list sorted by increasing hour which includes the hour and the associated number of unique hosts for that hour. Make sure you cache the resulting RDD `hourlyHosts` so that we can reuse it in the next exercise.\n",
        " \n",
        "####Think about the steps that you need to perform to count the number of different hosts that make requests *each* hour.\n",
        "####*Note, the log only covers a single day.*"
      ]
    },
    {
      "cell_type": "code",
      "execution_count": 133,
      "metadata": {
        "deletable": false,
        "id": "vkkw6VEjBKbd",
        "nbgrader": {
          "cell_type": "code",
          "checksum": "27127db0f3afa5d9ae06f2fd8dc5c3de",
          "grade": false,
          "grade_id": "cell-b190c1b5beb763d2",
          "locked": false,
          "schema_version": 3,
          "solution": true,
          "task": false
        }
      },
      "outputs": [],
      "source": [
        "# TODO: Replace <FILL IN> with appropriate code\n",
        "\n",
        "hourToHostPairTuple = access_logs.map(lambda log: (((log.host, log.date_time.hour)), 1))\n",
        "\n",
        "uniqueHourToHostPairTuple = hourToHostPairTuple.reduceByKey(lambda a, b : a + b)\n",
        "\n",
        "hourTuple = uniqueHourToHostPairTuple.map(lambda log: (log[0][1], 1))\n",
        "\n",
        "hourlyHosts = hourTuple.reduceByKey(lambda a, b : a + b).cache()\n",
        "\n",
        "hourlyHostsList = hourlyHosts.sortBy(lambda x: x[0]).collect()\n"
      ]
    },
    {
      "cell_type": "code",
      "execution_count": 134,
      "metadata": {
        "deletable": false,
        "editable": false,
        "id": "w53Bo3MKBKbf",
        "nbgrader": {
          "cell_type": "code",
          "checksum": "ded30ff0cb31b7cbc00a41a5548d2a50",
          "grade": true,
          "grade_id": "cell-163b192ca84222d1",
          "locked": true,
          "points": 10,
          "schema_version": 3,
          "solution": false,
          "task": false
        }
      },
      "outputs": [],
      "source": [
        "# TEST Number of unique daily hosts (3c)\n",
        "Test.assertEqual(hourlyHosts.count(), 13, 'incorrect hourlyHosts.count()')\n",
        "Test.assertEqual(hourlyHostsList, [(6, 115), (7, 123), (8, 95), (9, 114), (10, 114), (11, 177), (12, 279), (13, 343), (14, 415), (15, 397), (16, 444), (17, 357), (18, 273)], 'incorrect hourlyHostsList')\n",
        "Test.assertTrue(hourlyHosts.is_cached, 'incorrect hourlyHosts.is_cached')"
      ]
    },
    {
      "cell_type": "markdown",
      "metadata": {
        "deletable": false,
        "editable": false,
        "id": "vWOLuROA_J9g",
        "nbgrader": {
          "cell_type": "markdown",
          "checksum": "f623e7e329d2844d93507281d3059979",
          "grade": false,
          "grade_id": "cell-96dd6c0bf5a7276d",
          "locked": true,
          "schema_version": 3,
          "solution": false,
          "task": false
        }
      },
      "source": [
        "#### **(3d) Challenge: Find How Much Data was from images [15 points]**\n",
        "####For a challenge, let's determine the amount of data sent from the server to hosts that was due to images and compare it to the amount of data sent for everything else. This computation gives us an idea about whether we should more aggressively downsample or compress the images on our website so that we reduce the amount of data we send."
      ]
    },
    {
      "cell_type": "code",
      "execution_count": 135,
      "metadata": {
        "deletable": false,
        "id": "q3Is7KFM_KaY",
        "nbgrader": {
          "cell_type": "code",
          "checksum": "1c2701a065a3013dddb2877ac6011445",
          "grade": false,
          "grade_id": "cell-b6f2717c92a72de0",
          "locked": false,
          "schema_version": 3,
          "solution": true,
          "task": false
        }
      },
      "outputs": [],
      "source": [
        "import os\n",
        "def get_extension(fullpath):\n",
        "  \"\"\"\n",
        "  Returns just the extension of the full path.\n",
        "  For example, '/path/to/somefile.ext' -> '.ext'\n",
        "  \"\"\"\n",
        "  filename, file_extension = os.path.splitext(fullpath)\n",
        "  return file_extension\n",
        "\n",
        "#common image types\n",
        "IMAGES = {'.ras', '.xwd', '.bmp', '.jpe', '.jpg', '.jpeg', '.xpm', '.ief', '.pbm', '.tif', '.gif', '.ppm', '.xbm', '.tiff', '.rgb', '.pgm', '.png', '.pnm'}\n",
        "\n",
        "images = access_logs.filter(lambda log: get_extension(log.endpoint) in IMAGES)\n",
        "\n",
        "imageBytes = images.map(lambda log: log.content_size).sum()\n",
        "\n",
        "\n",
        "nonImages = access_logs.filter(lambda log: get_extension(log.endpoint) not in IMAGES)\n",
        "\n",
        "nonImageBytes = nonImages.map(lambda log: log.content_size).sum()\n",
        "\n",
        "\n"
      ]
    },
    {
      "cell_type": "code",
      "execution_count": 136,
      "metadata": {
        "deletable": false,
        "editable": false,
        "id": "XWeQs-RQvVJ6",
        "nbgrader": {
          "cell_type": "code",
          "checksum": "dfe113fac804b37c2d163d3de3538331",
          "grade": true,
          "grade_id": "cell-66b0fa2f208a6c5f",
          "locked": true,
          "points": 15,
          "schema_version": 3,
          "solution": false,
          "task": false
        },
        "colab": {
          "base_uri": "https://localhost:8080/"
        },
        "outputId": "34d93541-e315-482a-e744-8aabe8af6a11"
      },
      "outputs": [
        {
          "output_type": "stream",
          "name": "stdout",
          "text": [
            "Non image total bytes sent: 248771434\n",
            "Image total bytes sent: 233229033\n"
          ]
        }
      ],
      "source": [
        "print('Non image total bytes sent: %s' % nonImageBytes)\n",
        "print('Image total bytes sent: %s' % imageBytes)\n",
        "Test.assertEqual(nonImageBytes, 248771434, 'incorrect nonImageBytes')\n",
        "Test.assertEqual(imageBytes, 233229033, 'imageBytes')\n"
      ]
    },
    {
      "cell_type": "markdown",
      "metadata": {
        "deletable": false,
        "editable": false,
        "id": "P_dceZ8jBKbx",
        "nbgrader": {
          "cell_type": "markdown",
          "checksum": "67fa45f93de6daef6afcf0ade73e66aa",
          "grade": false,
          "grade_id": "cell-c64c3c10eb9cb38d",
          "locked": true,
          "schema_version": 3,
          "solution": false,
          "task": false
        }
      },
      "source": [
        "### **Part 4: Exploring 404 Response Codes**\n",
        " \n",
        "####Let's drill down and explore the error 404 response code records. 404 errors are returned when an endpoint is not found by the server (i.e., a missing page or object)."
      ]
    },
    {
      "cell_type": "markdown",
      "metadata": {
        "deletable": false,
        "editable": false,
        "id": "i4PXN7R9BKbx",
        "nbgrader": {
          "cell_type": "markdown",
          "checksum": "3a523574581aa8c31d0b336cb1f27111",
          "grade": false,
          "grade_id": "cell-590d8724e83ffe26",
          "locked": true,
          "schema_version": 3,
          "solution": false,
          "task": false
        }
      },
      "source": [
        "#### **(4a) Exercise: Counting 404 Response Codes [10 points]**\n",
        "#### Create a RDD containing only log records with a 404 response code. Make sure you `cache()` the RDD `badRecords` as we will use it in the rest of this exercise.\n",
        " \n",
        "#### How many 404 records are in the log?"
      ]
    },
    {
      "cell_type": "code",
      "execution_count": 137,
      "metadata": {
        "deletable": false,
        "id": "2TaYATR-BKby",
        "nbgrader": {
          "cell_type": "code",
          "checksum": "291b8a7b9edc615dac94325024ce3e80",
          "grade": false,
          "grade_id": "cell-b0f3524bd9ae4275",
          "locked": false,
          "schema_version": 3,
          "solution": true,
          "task": false
        },
        "colab": {
          "base_uri": "https://localhost:8080/"
        },
        "outputId": "c56f4e96-3057-4737-b03d-071a9c6775ce"
      },
      "outputs": [
        {
          "output_type": "stream",
          "name": "stdout",
          "text": [
            "Found 221 404 URLs\n"
          ]
        }
      ],
      "source": [
        "# TODO: Replace <FILL IN> with appropriate code\n",
        "\n",
        "badRecords = (access_logs.filter(lambda log: log.response_code == 404))\n",
        "badRecords.cache()\n",
        "print('Found %d 404 URLs' % badRecords.count())"
      ]
    },
    {
      "cell_type": "code",
      "execution_count": 138,
      "metadata": {
        "deletable": false,
        "editable": false,
        "id": "Z4W92gXeBKb0",
        "nbgrader": {
          "cell_type": "code",
          "checksum": "5ee3ab4fa8c7af7810e9369ceb8bdfcf",
          "grade": true,
          "grade_id": "cell-2862e037522c3732",
          "locked": true,
          "points": 10,
          "schema_version": 3,
          "solution": false,
          "task": false
        }
      },
      "outputs": [],
      "source": [
        "# TEST Counting 404 (4a)\n",
        "Test.assertEqual(badRecords.count(), 221, 'incorrect badRecords.count()')\n",
        "Test.assertTrue(badRecords.is_cached, 'incorrect badRecords.is_cached')"
      ]
    },
    {
      "cell_type": "markdown",
      "metadata": {
        "deletable": false,
        "editable": false,
        "id": "g-LYkhEFBKb2",
        "nbgrader": {
          "cell_type": "markdown",
          "checksum": "6225203c3bf1ed644a011617f4238836",
          "grade": false,
          "grade_id": "cell-19ffb53e4028c377",
          "locked": true,
          "schema_version": 3,
          "solution": false,
          "task": false
        }
      },
      "source": [
        "#### **(4b) Exercise: Listing 404 Response Code Records [10 points]**\n",
        "####Using the RDD containing only log records with a 404 response code that you cached in part (4a), print out a list up to 40 **distinct** endpoints that generate 404 errors -  *no endpoint should appear more than once in your list.*"
      ]
    },
    {
      "cell_type": "code",
      "execution_count": 139,
      "metadata": {
        "deletable": false,
        "id": "_wGGENWzBKb3",
        "nbgrader": {
          "cell_type": "code",
          "checksum": "5cebe4f22e1997a2a5278c60308f66ee",
          "grade": false,
          "grade_id": "cell-3701ab40527d2e09",
          "locked": false,
          "schema_version": 3,
          "solution": true,
          "task": false
        },
        "colab": {
          "base_uri": "https://localhost:8080/"
        },
        "outputId": "812d7d05-5c41-4710-c3ad-457c58c814c1"
      },
      "outputs": [
        {
          "output_type": "stream",
          "name": "stdout",
          "text": [
            "404 URLS: ['/shuttle/resources/orbiters/atlantis.gif', '/history/apollo/html', '/images/Nasa-logo.gif', '/nasa/nasa_hottopics.html', '/people/nasa-cm/jmd.html', '/IUMA/lib/htu_button.gif', '/shuttle/technology/sts_newsreflsts_ovcomm.html', '/l', '/history/apollo/sa-1/images/', '/history/apollo/sa-1/docs/', '/history/apollo/sa-9/images/', '/history/apollo/sa-9/news/', '/nws/public', '/elv/new01.gif', '/shuttle/technology/images/sts-comm.jpg', '/shuttle/technology/sts-newsref/spacelab', '/shuttle/missions/sts-68/ksc-upclose.gif', '/ksc.html0.', '/SDG/Experimental/demoweb/return.gif', '/shuttle/missions-sts-49.html', '/ksclogo-medium.gif', '/ksc.nasa.gov/images/ksclogo-medium.gif', '/shuttle/missions/sts-69/images/KSC-95EC-1014.gif', '/shuttle/missions/sts-69/images/KSC-95EC-0852.gif', '/shuttle/missions/STS-69/images/index69.gif', '/://spacelink.msfc.nasa.gov', '/robots.txt', '/shuttle/missions/sts-71/count71.gif', '/history/apollo/sa-5/sa-5-patch-small.gif', '/history/apollo/sa-5/sounds/', '/APOLLO-13', '/HISTORY/APOLLO/APOLLO-13/APOLLO-13.HTML', '/missions/sts-70/liftoff.html', '/pub/winvn/', '/pub/', '/shuttle/countdown/ab.html', '/shuttle/missions/sts-69/video/livevideo2.gif', '/pub/winvn/readme.txt', '/pub/winvn/release.txt', '/ksc.htm1']\n"
          ]
        }
      ],
      "source": [
        "# TODO: Replace <FILL IN> with appropriate code\n",
        "\n",
        "badEndpoints = badRecords.map(lambda log: log.endpoint)\n",
        "\n",
        "badUniqueEndpoints = badEndpoints.distinct()\n",
        "\n",
        "badUniqueEndpointsPick40 = badUniqueEndpoints.take(40)\n",
        "print('404 URLS: %s' % badUniqueEndpointsPick40)"
      ]
    },
    {
      "cell_type": "code",
      "execution_count": 141,
      "metadata": {
        "deletable": false,
        "editable": false,
        "id": "XABzm7jPBKb4",
        "nbgrader": {
          "cell_type": "code",
          "checksum": "69b9df46ac7d3d727d91ccbc00be6ebc",
          "grade": true,
          "grade_id": "cell-2ca5f27018758af3",
          "locked": true,
          "points": 10,
          "schema_version": 3,
          "solution": false,
          "task": false
        }
      },
      "outputs": [],
      "source": [
        "# TEST Listing 404 records (4b)\n",
        "\n",
        "badUniqueEndpointsSet40 = set(badUniqueEndpointsPick40)\n",
        "Test.assertEqual(len(badUniqueEndpointsSet40), 40, 'badUniqueEndpointsPick40 not distinct')"
      ]
    },
    {
      "cell_type": "markdown",
      "metadata": {
        "deletable": false,
        "editable": false,
        "id": "QGHUgVjRBKb6",
        "nbgrader": {
          "cell_type": "markdown",
          "checksum": "750575ed614fc89753fd5b667f8a6881",
          "grade": false,
          "grade_id": "cell-a5f4140b4156e3ee",
          "locked": true,
          "schema_version": 3,
          "solution": false,
          "task": false
        }
      },
      "source": [
        "\n",
        "\n",
        "#### **(4c) Exercise: Listing the Top Twenty 404 Response Code Endpoints [10 points]**\n",
        "####Using the RDD containing only log records with a 404 response code that you cached in part (4a), print out a list of the top twenty endpoints that generate the most 404 errors.\n",
        "####*Remember, top endpoints should be in sorted order*"
      ]
    },
    {
      "cell_type": "code",
      "execution_count": 142,
      "metadata": {
        "deletable": false,
        "id": "xwXlPWLvBKb7",
        "nbgrader": {
          "cell_type": "code",
          "checksum": "ab627dcbd0dc41631498d9ff9b884704",
          "grade": false,
          "grade_id": "cell-195b18e150e4ab06",
          "locked": false,
          "schema_version": 3,
          "solution": true,
          "task": false
        },
        "colab": {
          "base_uri": "https://localhost:8080/"
        },
        "outputId": "0ea864c8-f84e-4968-db93-a7e6aca0a9f4"
      },
      "outputs": [
        {
          "output_type": "stream",
          "name": "stdout",
          "text": [
            "Top Twenty 404 URLs: [('/images/Nasa-logo.gif', 79), ('/pub/winvn/readme.txt', 14), ('/pub/winvn/release.txt', 12), ('/elv/DELTA/uncons.htm', 10), ('/M/on-this-day', 6), ('/shuttle/missions/STS-69/images/index69.gif', 4), ('/history/apollo/sa-1/sa-1-patch-small.gif', 4), ('/pub', 4), ('/shuttle/resources/orbiters/atlantis.gif', 3), ('/shuttle/resources/orbiters/discovery.gif', 3), ('/history/apollo/sa-9/sa-9-patch-small.gif', 3), ('/shuttle/technology/images/sts-comm-small.gif', 3), ('/nasa/nasa_hottopics.html', 2), ('/people/nasa-cm/jmd.html', 2), ('/shuttle/technology/sts_newsreflsts_ovcomm.html', 2), ('/elv/new01.gif', 2), ('/shuttle/technology/sts-newsref/spacelab', 2), ('/shuttle/missions/sts-68/ksc-upclose.gif', 2), ('/ksc.html0.', 2), ('/://spacelink.msfc.nasa.gov', 2)]\n"
          ]
        }
      ],
      "source": [
        "# TODO: Replace <FILL IN> with appropriate code\n",
        "\n",
        "badEndpointsCountPairTuple = badRecords.map(lambda log: (log.endpoint, 1))\n",
        "\n",
        "badEndpointsSum = badEndpointsCountPairTuple.reduceByKey(lambda a, b: a + b)\n",
        "\n",
        "badEndpointsTop20 = badEndpointsSum.takeOrdered(20, key=lambda x: -x[1])\n",
        "\n",
        "print('Top Twenty 404 URLs: %s' % badEndpointsTop20)"
      ]
    },
    {
      "cell_type": "code",
      "execution_count": 143,
      "metadata": {
        "deletable": false,
        "editable": false,
        "id": "4apaQRHvBKb9",
        "nbgrader": {
          "cell_type": "code",
          "checksum": "0681807549cc6a8fc8f0e25b5e42759a",
          "grade": true,
          "grade_id": "cell-a27bccd169b1300a",
          "locked": true,
          "points": 10,
          "schema_version": 3,
          "solution": false,
          "task": false
        }
      },
      "outputs": [],
      "source": [
        "# TEST Top twenty 404 URLs (4c)\n",
        "Test.assertEqual(badEndpointsTop20, [('/images/Nasa-logo.gif', 79), ('/pub/winvn/readme.txt', 14), ('/pub/winvn/release.txt', 12), ('/elv/DELTA/uncons.htm', 10), ('/M/on-this-day', 6), ('/shuttle/missions/STS-69/images/index69.gif', 4), ('/history/apollo/sa-1/sa-1-patch-small.gif', 4), ('/pub', 4), ('/shuttle/resources/orbiters/atlantis.gif', 3), ('/shuttle/resources/orbiters/discovery.gif', 3), ('/history/apollo/sa-9/sa-9-patch-small.gif', 3), ('/shuttle/technology/images/sts-comm-small.gif', 3), ('/nasa/nasa_hottopics.html', 2), ('/people/nasa-cm/jmd.html', 2), ('/shuttle/technology/sts_newsreflsts_ovcomm.html', 2), ('/elv/new01.gif', 2), ('/shuttle/technology/sts-newsref/spacelab', 2), ('/shuttle/missions/sts-68/ksc-upclose.gif', 2), ('/ksc.html0.', 2), ('/://spacelink.msfc.nasa.gov', 2)])"
      ]
    },
    {
      "cell_type": "markdown",
      "metadata": {
        "deletable": false,
        "editable": false,
        "id": "0AkRKAlh7JQ2",
        "nbgrader": {
          "cell_type": "markdown",
          "checksum": "94e272c29c60de0e8604133aea777d8f",
          "grade": false,
          "grade_id": "cell-37ac657b73276432",
          "locked": true,
          "schema_version": 3,
          "solution": false,
          "task": false
        }
      },
      "source": [
        "#### **(4d) Challenge: Find Case Sensitive 404s [15 points]**\n",
        "####For a challenge, let's determine which page requests were for pages that are on the server (pages whose response code was a successful 200) but were requested incorrectly because of letter case sensitivity. For example, requesting '/images/Nasa-logo.gif' instead of '/images/nasa-logo.gif' would result in a 404 error because a file with the image would fail to be found with a capital N. This could give us debugging information for how to fix a different web page that incorrectly referenced '/images/Nasa-logo.gif'.\n"
      ]
    },
    {
      "cell_type": "code",
      "execution_count": 144,
      "metadata": {
        "deletable": false,
        "id": "TBGgiHjl7ScE",
        "nbgrader": {
          "cell_type": "code",
          "checksum": "b3d6c1b07a5f7bc6cb23cd7544565e9d",
          "grade": false,
          "grade_id": "cell-7329e4f50a36b415",
          "locked": false,
          "schema_version": 3,
          "solution": true,
          "task": false
        }
      },
      "outputs": [],
      "source": [
        "# you need to fully structure code (multiple lines) here\n",
        "# HINT: you should use two RDDs together\n",
        "\n",
        "response200 = access_logs.filter(lambda log: log.response_code == 200)\n",
        "\n",
        "all200Endpoints = response200.map(lambda log: log.endpoint.lower()).distinct()\n",
        "\n",
        "all404Endpoints = badRecords.map(lambda log: log.endpoint.lower()).distinct()\n",
        "\n",
        "caseSensitive404s = all200Endpoints.intersection(all404Endpoints).sortBy(lambda x: x)"
      ]
    },
    {
      "cell_type": "code",
      "execution_count": 145,
      "metadata": {
        "deletable": false,
        "editable": false,
        "id": "NukJAYZ6xGlP",
        "nbgrader": {
          "cell_type": "code",
          "checksum": "bd30aeac62e6857cafc5df3e6992821e",
          "grade": true,
          "grade_id": "cell-37a808c5a928d9aa",
          "locked": true,
          "points": 15,
          "schema_version": 3,
          "solution": false,
          "task": false
        }
      },
      "outputs": [],
      "source": [
        "Test.assertEqual(caseSensitive404s.collect(), ['/elv/new01.gif', '/history/apollo/apollo-13/apollo-13.html', '/images/nasa-logo.gif', '/mdss/', '/shuttle/missions/sts-69/images/index69.gif', '/shuttle/missions/sts-71/count71.gif'],\n",
        "                 'incorrect case sensitive 404s')"
      ]
    }
  ],
  "metadata": {
    "colab": {
      "provenance": [],
      "toc_visible": true
    },
    "kernelspec": {
      "display_name": "Python 3 (ipykernel)",
      "language": "python",
      "name": "python3"
    },
    "language_info": {
      "codemirror_mode": {
        "name": "ipython",
        "version": 3
      },
      "file_extension": ".py",
      "mimetype": "text/x-python",
      "name": "python",
      "nbconvert_exporter": "python",
      "pygments_lexer": "ipython3",
      "version": "3.9.13"
    }
  },
  "nbformat": 4,
  "nbformat_minor": 0
}